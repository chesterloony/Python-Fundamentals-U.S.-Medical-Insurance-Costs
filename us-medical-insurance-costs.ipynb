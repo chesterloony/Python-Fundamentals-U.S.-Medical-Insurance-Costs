{
 "cells": [
  {
   "cell_type": "markdown",
   "metadata": {},
   "source": [
    "# U.S. Medical Insurance Costs"
   ]
  },
  {
   "cell_type": "code",
   "execution_count": 333,
   "metadata": {},
   "outputs": [],
   "source": [
    "# Import insurance.csv into the Python file.\n",
    "\n",
    "import csv"
   ]
  },
  {
   "cell_type": "code",
   "execution_count": 334,
   "metadata": {},
   "outputs": [],
   "source": [
    "# Create an empty list for each column in the dataset to store data.\n",
    "\n",
    "ages = []\n",
    "sexes = []\n",
    "bmis = []\n",
    "number_of_children = []\n",
    "smoker_status = []\n",
    "regions = []\n",
    "insurance_costs = []"
   ]
  },
  {
   "cell_type": "code",
   "execution_count": 335,
   "metadata": {},
   "outputs": [],
   "source": [
    "# Create an empty dictionary to store all the patient files.\n",
    "\n",
    "insurance_dict = {}"
   ]
  },
  {
   "cell_type": "code",
   "execution_count": 336,
   "metadata": {},
   "outputs": [],
   "source": [
    "# Read the csv file and save it to the correct variables.\n",
    "\n",
    "with open('insurance.csv') as insurance_file:\n",
    "    csv_dict = csv.DictReader(insurance_file)\n",
    "    records_dict = {\"age\": 0, \"sex\": 0, \"bmi\": 0, \"children\": 0, \"smoker\": 0, \"region\": 0, \"charges\": 0}\n",
    "    record_id = 0\n",
    "    for row in csv_dict:\n",
    "        # Populate lists\n",
    "        ages.append(row['age'])\n",
    "        sexes.append(row['sex'])\n",
    "        bmis.append(row['bmi'])\n",
    "        number_of_children.append(row['children'])\n",
    "        smoker_status.append(row['smoker'])\n",
    "        regions.append(row['region'])\n",
    "        insurance_costs.append(row['charges'])\n",
    "        # Populate dictionary\n",
    "        records_dict = row['age'], row['sex'], row['bmi'], row['children'], row['smoker'], row['region'], row['charges']\n",
    "        insurance_dict.update({record_id: records_dict})\n",
    "        record_id += 1"
   ]
  },
  {
   "cell_type": "code",
   "execution_count": 337,
   "metadata": {},
   "outputs": [
    {
     "name": "stdout",
     "output_type": "stream",
     "text": [
      "0  :  ('19', 'female', '27.9', '0', 'yes', 'southwest', '16884.924')\n",
      "1  :  ('18', 'male', '33.77', '1', 'no', 'southeast', '1725.5523')\n",
      "2  :  ('28', 'male', '33', '3', 'no', 'southeast', '4449.462')\n",
      "3  :  ('33', 'male', '22.705', '0', 'no', 'northwest', '21984.47061')\n",
      "4  :  ('32', 'male', '28.88', '0', 'no', 'northwest', '3866.8552')\n",
      "5  :  ('31', 'female', '25.74', '0', 'no', 'southeast', '3756.6216')\n"
     ]
    }
   ],
   "source": [
    "# Inspect the first five rows of data.\n",
    "\n",
    "x = 0\n",
    "\n",
    "for key, value in insurance_dict.items():\n",
    "    if x > 5:\n",
    "        break\n",
    "    else:\n",
    "        print(key, ' : ', value)\n",
    "        x += 1"
   ]
  },
  {
   "cell_type": "code",
   "execution_count": 340,
   "metadata": {},
   "outputs": [
    {
     "name": "stdout",
     "output_type": "stream",
     "text": [
      "The average insurance cost is $13270.42.\n"
     ]
    }
   ],
   "source": [
    "# Find the average insurance cost.\n",
    "\n",
    "int_insurance = [eval(i) for i in insurance_costs]\n",
    "avg_insurance = sum(int_insurance) / len(int_insurance)\n",
    "\n",
    "print('The average insurance cost is $' + str(round(avg_insurance, 2)) + '.')"
   ]
  },
  {
   "cell_type": "code",
   "execution_count": 373,
   "metadata": {},
   "outputs": [
    {
     "name": "stdout",
     "output_type": "stream",
     "text": [
      "The average insurance cost for male is $13956.75. That is $686.33 more than the national average!\n",
      "The average insurance cost for female is $12569.58. That is $700.84 less than the national average!\n"
     ]
    }
   ],
   "source": [
    "# Find the average insurance cost between sexes.\n",
    "\n",
    "sex_insurance_zip = zip(sexes, int_insurance)\n",
    "sex_insurance_list = list(sex_insurance_zip)\n",
    "\n",
    "male = []\n",
    "female = []\n",
    "\n",
    "for patient, cost in sex_insurance_list:\n",
    "    if(patient == 'male'):\n",
    "        male.append(cost)\n",
    "    else:\n",
    "        female.append(cost)\n",
    "\n",
    "sum_male = sum(male)\n",
    "sum_female = sum(female)\n",
    "\n",
    "avg_male = sum_male / len(male)\n",
    "avg_female = sum_female / len(female)\n",
    "\n",
    "male_diff = avg_male - avg_insurance\n",
    "female_diff = avg_insurance - avg_female\n",
    "\n",
    "print('The average insurance cost for male is $' + str(round(avg_male, 2)) + '. That is $' + str(round(male_diff, 2)) + ' more than the national average!')\n",
    "print('The average insurance cost for female is $' + str(round(avg_female, 2)) + '. That is $' + str(round(female_diff, 2)) + ' less than the national average!')"
   ]
  }
 ],
 "metadata": {
  "kernelspec": {
   "display_name": "Python 3 (ipykernel)",
   "language": "python",
   "name": "python3"
  },
  "language_info": {
   "codemirror_mode": {
    "name": "ipython",
    "version": 3
   },
   "file_extension": ".py",
   "mimetype": "text/x-python",
   "name": "python",
   "nbconvert_exporter": "python",
   "pygments_lexer": "ipython3",
   "version": "3.9.12"
  }
 },
 "nbformat": 4,
 "nbformat_minor": 4
}

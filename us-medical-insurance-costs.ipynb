{
 "cells": [
  {
   "cell_type": "markdown",
   "metadata": {},
   "source": [
    "# U.S. Medical Insurance Costs"
   ]
  },
  {
   "cell_type": "code",
   "execution_count": 39,
   "metadata": {},
   "outputs": [],
   "source": [
    "# Importing insurance.csv into the Python file.\n",
    "\n",
    "import csv"
   ]
  },
  {
   "cell_type": "code",
   "execution_count": 40,
   "metadata": {},
   "outputs": [],
   "source": [
    "# Inserting the data into a dictionary using the method DictReader().\n",
    "\n",
    "with open('insurance.csv') as insurance_file:\n",
    "    dict_reader = csv.DictReader(insurance_file)\n",
    "    dict_insurance = {}\n",
    "    for row in dict_reader:\n",
    "        dict_insurance['Age'] = row['age']\n",
    "        dict_insurance['Sex'] = row['sex']\n",
    "        dict_insurance['BMI'] = row['bmi']\n",
    "        dict_insurance['Number of Children'] = row['children']\n",
    "        dict_insurance['Smoker'] = row['smoker']\n",
    "        dict_insurance['Region'] = row['region']\n",
    "        dict_insurance['Charges'] = row['charges']"
   ]
  },
  {
   "cell_type": "code",
   "execution_count": 41,
   "metadata": {
    "scrolled": true
   },
   "outputs": [
    {
     "name": "stdout",
     "output_type": "stream",
     "text": [
      "{'Age': '61', 'Sex': 'female', 'BMI': '29.07', 'Number of Children': '0', 'Smoker': 'yes', 'Region': 'northwest', 'Charges': '29141.3603'}\n",
      "{'Age': '61', 'Sex': 'female', 'BMI': '29.07', 'Number of Children': '0', 'Smoker': 'yes', 'Region': 'northwest', 'Charges': '29141.3603'}\n",
      "{'Age': '61', 'Sex': 'female', 'BMI': '29.07', 'Number of Children': '0', 'Smoker': 'yes', 'Region': 'northwest', 'Charges': '29141.3603'}\n",
      "{'Age': '61', 'Sex': 'female', 'BMI': '29.07', 'Number of Children': '0', 'Smoker': 'yes', 'Region': 'northwest', 'Charges': '29141.3603'}\n",
      "{'Age': '61', 'Sex': 'female', 'BMI': '29.07', 'Number of Children': '0', 'Smoker': 'yes', 'Region': 'northwest', 'Charges': '29141.3603'}\n"
     ]
    }
   ],
   "source": [
    "# Inspecting the first five rows of data in the dataset.\n",
    "\n",
    "for row in range(5):\n",
    "    print(dict_insurance)"
   ]
  }
 ],
 "metadata": {
  "kernelspec": {
   "display_name": "Python 3 (ipykernel)",
   "language": "python",
   "name": "python3"
  },
  "language_info": {
   "codemirror_mode": {
    "name": "ipython",
    "version": 3
   },
   "file_extension": ".py",
   "mimetype": "text/x-python",
   "name": "python",
   "nbconvert_exporter": "python",
   "pygments_lexer": "ipython3",
   "version": "3.9.12"
  }
 },
 "nbformat": 4,
 "nbformat_minor": 4
}
